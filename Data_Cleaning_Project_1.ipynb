{
  "nbformat": 4,
  "nbformat_minor": 0,
  "metadata": {
    "colab": {
      "provenance": [],
      "authorship_tag": "ABX9TyOe0nGPMI4W81OVKzdqRs/q",
      "include_colab_link": true
    },
    "kernelspec": {
      "name": "python3",
      "display_name": "Python 3"
    },
    "language_info": {
      "name": "python"
    }
  },
  "cells": [
    {
      "cell_type": "markdown",
      "metadata": {
        "id": "view-in-github",
        "colab_type": "text"
      },
      "source": [
        "<a href=\"https://colab.research.google.com/github/tagsim/test/blob/main/Data_Cleaning_Project_1.ipynb\" target=\"_parent\"><img src=\"https://colab.research.google.com/assets/colab-badge.svg\" alt=\"Open In Colab\"/></a>"
      ]
    },
    {
      "cell_type": "code",
      "execution_count": 34,
      "metadata": {
        "colab": {
          "base_uri": "https://localhost:8080/"
        },
        "id": "7oOEM902cw3i",
        "outputId": "697f844b-e2b8-49b6-c8ad-b3bf6c95592f"
      },
      "outputs": [
        {
          "output_type": "stream",
          "name": "stdout",
          "text": [
            "Drive already mounted at /content/drive; to attempt to forcibly remount, call drive.mount(\"/content/drive\", force_remount=True).\n"
          ]
        }
      ],
      "source": [
        "#Mount Google Drive in order to access Drive files\n",
        "from google.colab import drive\n",
        "drive.mount('/content/drive')"
      ]
    },
    {
      "cell_type": "code",
      "source": [
        "#Import relevant libraries\n",
        "import pandas as pd\n",
        "import sqlite3"
      ],
      "metadata": {
        "id": "QqacDLMAh1bF"
      },
      "execution_count": 35,
      "outputs": []
    },
    {
      "cell_type": "code",
      "source": [
        "#Import CSV documents into Pandas dataframe.\n",
        "cleanframe = pd.read_csv('/content/drive/MyDrive/Portfolio Project August 2023/Copy of Nashville Housing Data for Data Cleaning -new - Nashville Housing Data for Data Cleaning -new.csv')"
      ],
      "metadata": {
        "id": "MFbjwrkpi6HM"
      },
      "execution_count": 36,
      "outputs": []
    },
    {
      "cell_type": "code",
      "source": [
        "#Check to ensure dataframes has been imported properly.\n",
        "cleanframe"
      ],
      "metadata": {
        "colab": {
          "base_uri": "https://localhost:8080/",
          "height": 877
        },
        "id": "Prbf7510i8fV",
        "outputId": "cf4210d4-e396-4176-d3dd-61177d012d1d"
      },
      "execution_count": 37,
      "outputs": [
        {
          "output_type": "execute_result",
          "data": {
            "text/plain": [
              "       UniqueID          ParcelID                  LandUse  \\\n",
              "0          2045   007 00 0 125.00            SINGLE FAMILY   \n",
              "1         16918   007 00 0 130.00            SINGLE FAMILY   \n",
              "2         54582   007 00 0 138.00            SINGLE FAMILY   \n",
              "3         43070   007 00 0 143.00            SINGLE FAMILY   \n",
              "4         22714   007 00 0 149.00            SINGLE FAMILY   \n",
              "...         ...               ...                      ...   \n",
              "56472     30469  188 10 0A 101.00            SINGLE FAMILY   \n",
              "56473     27707  188 10 0A 107.00            SINGLE FAMILY   \n",
              "56474     52709  188 10 0A 118.00  VACANT RESIDENTIAL LAND   \n",
              "56475     54042  188 10 0A 121.00  VACANT RESIDENTIAL LAND   \n",
              "56476     54043  188 10 0A 122.00  VACANT RESIDENTIAL LAND   \n",
              "\n",
              "                           PropertyAddress             SaleDate SalePrice  \\\n",
              "0       1808  FOX CHASE DR, GOODLETTSVILLE  2013-04-09 00:00:00    240000   \n",
              "1       1832  FOX CHASE DR, GOODLETTSVILLE  2014-06-10 00:00:00    366000   \n",
              "2       1864 FOX CHASE  DR, GOODLETTSVILLE  2016-09-26 00:00:00    435000   \n",
              "3       1853  FOX CHASE DR, GOODLETTSVILLE  2016-01-29 00:00:00    255000   \n",
              "4       1829  FOX CHASE DR, GOODLETTSVILLE  2014-10-10 00:00:00    278000   \n",
              "...                                    ...                  ...       ...   \n",
              "56472  1435  WINDING CREEK DR, NOLENSVILLE  2015-05-27 00:00:00    157500   \n",
              "56473  1423  WINDING CREEK DR, NOLENSVILLE  2015-03-02 00:00:00    145000   \n",
              "56474    1804 GRACE POINT  LN, NOLENSVILLE  2016-08-16 00:00:00    234611   \n",
              "56475   1709 PARK TERRACE  LN, NOLENSVILLE  2016-09-07 00:00:00     93844   \n",
              "56476   1713 PARK TERRACE  LN, NOLENSVILLE  2016-09-07 00:00:00     93844   \n",
              "\n",
              "         LegalReference SoldAsVacant                           OwnerName  \\\n",
              "0      20130412-0036474           No           FRAZIER, CYRENTHA LYNETTE   \n",
              "1      20140619-0053768           No             BONER, CHARLES & LESLIE   \n",
              "2      20160927-0101718           No           WILSON, JAMES E. & JOANNE   \n",
              "3      20160129-0008913           No            BAKER, JAY K. & SUSAN E.   \n",
              "4      20141015-0095255           No  POST, CHRISTOPHER M. & SAMANTHA C.   \n",
              "...                 ...          ...                                 ...   \n",
              "56472  20150608-0053286           No                                 NaN   \n",
              "56473  20150304-0019013           No                                 NaN   \n",
              "56474  20160819-0087214          Yes                                 NaN   \n",
              "56475  20160919-0098411          Yes                                 NaN   \n",
              "56476  20160919-0098411          Yes                                 NaN   \n",
              "\n",
              "                                 OwnerAddress  Acreage  \\\n",
              "0      1808  FOX CHASE DR, GOODLETTSVILLE, TN      2.3   \n",
              "1      1832  FOX CHASE DR, GOODLETTSVILLE, TN      3.5   \n",
              "2      1864  FOX CHASE DR, GOODLETTSVILLE, TN      2.9   \n",
              "3      1853  FOX CHASE DR, GOODLETTSVILLE, TN      2.6   \n",
              "4      1829  FOX CHASE DR, GOODLETTSVILLE, TN      2.0   \n",
              "...                                       ...      ...   \n",
              "56472                                     NaN      NaN   \n",
              "56473                                     NaN      NaN   \n",
              "56474                                     NaN      NaN   \n",
              "56475                                     NaN      NaN   \n",
              "56476                                     NaN      NaN   \n",
              "\n",
              "                     TaxDistrict  LandValue  BuildingValue  TotalValue  \\\n",
              "0      GENERAL SERVICES DISTRICT    50000.0       168200.0    235700.0   \n",
              "1      GENERAL SERVICES DISTRICT    50000.0       264100.0    319000.0   \n",
              "2      GENERAL SERVICES DISTRICT    50000.0       216200.0    298000.0   \n",
              "3      GENERAL SERVICES DISTRICT    50000.0       147300.0    197300.0   \n",
              "4      GENERAL SERVICES DISTRICT    50000.0       152300.0    202300.0   \n",
              "...                          ...        ...            ...         ...   \n",
              "56472                        NaN        NaN            NaN         NaN   \n",
              "56473                        NaN        NaN            NaN         NaN   \n",
              "56474                        NaN        NaN            NaN         NaN   \n",
              "56475                        NaN        NaN            NaN         NaN   \n",
              "56476                        NaN        NaN            NaN         NaN   \n",
              "\n",
              "       YearBuilt  Bedrooms  FullBath  HalfBath  \n",
              "0         1986.0       3.0       3.0       0.0  \n",
              "1         1998.0       3.0       3.0       2.0  \n",
              "2         1987.0       4.0       3.0       0.0  \n",
              "3         1985.0       3.0       3.0       0.0  \n",
              "4         1984.0       4.0       3.0       0.0  \n",
              "...          ...       ...       ...       ...  \n",
              "56472        NaN       NaN       NaN       NaN  \n",
              "56473        NaN       NaN       NaN       NaN  \n",
              "56474        NaN       NaN       NaN       NaN  \n",
              "56475        NaN       NaN       NaN       NaN  \n",
              "56476        NaN       NaN       NaN       NaN  \n",
              "\n",
              "[56477 rows x 19 columns]"
            ],
            "text/html": [
              "\n",
              "  <div id=\"df-feb63c14-6db6-480e-943d-9d7468e1a67b\" class=\"colab-df-container\">\n",
              "    <div>\n",
              "<style scoped>\n",
              "    .dataframe tbody tr th:only-of-type {\n",
              "        vertical-align: middle;\n",
              "    }\n",
              "\n",
              "    .dataframe tbody tr th {\n",
              "        vertical-align: top;\n",
              "    }\n",
              "\n",
              "    .dataframe thead th {\n",
              "        text-align: right;\n",
              "    }\n",
              "</style>\n",
              "<table border=\"1\" class=\"dataframe\">\n",
              "  <thead>\n",
              "    <tr style=\"text-align: right;\">\n",
              "      <th></th>\n",
              "      <th>UniqueID</th>\n",
              "      <th>ParcelID</th>\n",
              "      <th>LandUse</th>\n",
              "      <th>PropertyAddress</th>\n",
              "      <th>SaleDate</th>\n",
              "      <th>SalePrice</th>\n",
              "      <th>LegalReference</th>\n",
              "      <th>SoldAsVacant</th>\n",
              "      <th>OwnerName</th>\n",
              "      <th>OwnerAddress</th>\n",
              "      <th>Acreage</th>\n",
              "      <th>TaxDistrict</th>\n",
              "      <th>LandValue</th>\n",
              "      <th>BuildingValue</th>\n",
              "      <th>TotalValue</th>\n",
              "      <th>YearBuilt</th>\n",
              "      <th>Bedrooms</th>\n",
              "      <th>FullBath</th>\n",
              "      <th>HalfBath</th>\n",
              "    </tr>\n",
              "  </thead>\n",
              "  <tbody>\n",
              "    <tr>\n",
              "      <th>0</th>\n",
              "      <td>2045</td>\n",
              "      <td>007 00 0 125.00</td>\n",
              "      <td>SINGLE FAMILY</td>\n",
              "      <td>1808  FOX CHASE DR, GOODLETTSVILLE</td>\n",
              "      <td>2013-04-09 00:00:00</td>\n",
              "      <td>240000</td>\n",
              "      <td>20130412-0036474</td>\n",
              "      <td>No</td>\n",
              "      <td>FRAZIER, CYRENTHA LYNETTE</td>\n",
              "      <td>1808  FOX CHASE DR, GOODLETTSVILLE, TN</td>\n",
              "      <td>2.3</td>\n",
              "      <td>GENERAL SERVICES DISTRICT</td>\n",
              "      <td>50000.0</td>\n",
              "      <td>168200.0</td>\n",
              "      <td>235700.0</td>\n",
              "      <td>1986.0</td>\n",
              "      <td>3.0</td>\n",
              "      <td>3.0</td>\n",
              "      <td>0.0</td>\n",
              "    </tr>\n",
              "    <tr>\n",
              "      <th>1</th>\n",
              "      <td>16918</td>\n",
              "      <td>007 00 0 130.00</td>\n",
              "      <td>SINGLE FAMILY</td>\n",
              "      <td>1832  FOX CHASE DR, GOODLETTSVILLE</td>\n",
              "      <td>2014-06-10 00:00:00</td>\n",
              "      <td>366000</td>\n",
              "      <td>20140619-0053768</td>\n",
              "      <td>No</td>\n",
              "      <td>BONER, CHARLES &amp; LESLIE</td>\n",
              "      <td>1832  FOX CHASE DR, GOODLETTSVILLE, TN</td>\n",
              "      <td>3.5</td>\n",
              "      <td>GENERAL SERVICES DISTRICT</td>\n",
              "      <td>50000.0</td>\n",
              "      <td>264100.0</td>\n",
              "      <td>319000.0</td>\n",
              "      <td>1998.0</td>\n",
              "      <td>3.0</td>\n",
              "      <td>3.0</td>\n",
              "      <td>2.0</td>\n",
              "    </tr>\n",
              "    <tr>\n",
              "      <th>2</th>\n",
              "      <td>54582</td>\n",
              "      <td>007 00 0 138.00</td>\n",
              "      <td>SINGLE FAMILY</td>\n",
              "      <td>1864 FOX CHASE  DR, GOODLETTSVILLE</td>\n",
              "      <td>2016-09-26 00:00:00</td>\n",
              "      <td>435000</td>\n",
              "      <td>20160927-0101718</td>\n",
              "      <td>No</td>\n",
              "      <td>WILSON, JAMES E. &amp; JOANNE</td>\n",
              "      <td>1864  FOX CHASE DR, GOODLETTSVILLE, TN</td>\n",
              "      <td>2.9</td>\n",
              "      <td>GENERAL SERVICES DISTRICT</td>\n",
              "      <td>50000.0</td>\n",
              "      <td>216200.0</td>\n",
              "      <td>298000.0</td>\n",
              "      <td>1987.0</td>\n",
              "      <td>4.0</td>\n",
              "      <td>3.0</td>\n",
              "      <td>0.0</td>\n",
              "    </tr>\n",
              "    <tr>\n",
              "      <th>3</th>\n",
              "      <td>43070</td>\n",
              "      <td>007 00 0 143.00</td>\n",
              "      <td>SINGLE FAMILY</td>\n",
              "      <td>1853  FOX CHASE DR, GOODLETTSVILLE</td>\n",
              "      <td>2016-01-29 00:00:00</td>\n",
              "      <td>255000</td>\n",
              "      <td>20160129-0008913</td>\n",
              "      <td>No</td>\n",
              "      <td>BAKER, JAY K. &amp; SUSAN E.</td>\n",
              "      <td>1853  FOX CHASE DR, GOODLETTSVILLE, TN</td>\n",
              "      <td>2.6</td>\n",
              "      <td>GENERAL SERVICES DISTRICT</td>\n",
              "      <td>50000.0</td>\n",
              "      <td>147300.0</td>\n",
              "      <td>197300.0</td>\n",
              "      <td>1985.0</td>\n",
              "      <td>3.0</td>\n",
              "      <td>3.0</td>\n",
              "      <td>0.0</td>\n",
              "    </tr>\n",
              "    <tr>\n",
              "      <th>4</th>\n",
              "      <td>22714</td>\n",
              "      <td>007 00 0 149.00</td>\n",
              "      <td>SINGLE FAMILY</td>\n",
              "      <td>1829  FOX CHASE DR, GOODLETTSVILLE</td>\n",
              "      <td>2014-10-10 00:00:00</td>\n",
              "      <td>278000</td>\n",
              "      <td>20141015-0095255</td>\n",
              "      <td>No</td>\n",
              "      <td>POST, CHRISTOPHER M. &amp; SAMANTHA C.</td>\n",
              "      <td>1829  FOX CHASE DR, GOODLETTSVILLE, TN</td>\n",
              "      <td>2.0</td>\n",
              "      <td>GENERAL SERVICES DISTRICT</td>\n",
              "      <td>50000.0</td>\n",
              "      <td>152300.0</td>\n",
              "      <td>202300.0</td>\n",
              "      <td>1984.0</td>\n",
              "      <td>4.0</td>\n",
              "      <td>3.0</td>\n",
              "      <td>0.0</td>\n",
              "    </tr>\n",
              "    <tr>\n",
              "      <th>...</th>\n",
              "      <td>...</td>\n",
              "      <td>...</td>\n",
              "      <td>...</td>\n",
              "      <td>...</td>\n",
              "      <td>...</td>\n",
              "      <td>...</td>\n",
              "      <td>...</td>\n",
              "      <td>...</td>\n",
              "      <td>...</td>\n",
              "      <td>...</td>\n",
              "      <td>...</td>\n",
              "      <td>...</td>\n",
              "      <td>...</td>\n",
              "      <td>...</td>\n",
              "      <td>...</td>\n",
              "      <td>...</td>\n",
              "      <td>...</td>\n",
              "      <td>...</td>\n",
              "      <td>...</td>\n",
              "    </tr>\n",
              "    <tr>\n",
              "      <th>56472</th>\n",
              "      <td>30469</td>\n",
              "      <td>188 10 0A 101.00</td>\n",
              "      <td>SINGLE FAMILY</td>\n",
              "      <td>1435  WINDING CREEK DR, NOLENSVILLE</td>\n",
              "      <td>2015-05-27 00:00:00</td>\n",
              "      <td>157500</td>\n",
              "      <td>20150608-0053286</td>\n",
              "      <td>No</td>\n",
              "      <td>NaN</td>\n",
              "      <td>NaN</td>\n",
              "      <td>NaN</td>\n",
              "      <td>NaN</td>\n",
              "      <td>NaN</td>\n",
              "      <td>NaN</td>\n",
              "      <td>NaN</td>\n",
              "      <td>NaN</td>\n",
              "      <td>NaN</td>\n",
              "      <td>NaN</td>\n",
              "      <td>NaN</td>\n",
              "    </tr>\n",
              "    <tr>\n",
              "      <th>56473</th>\n",
              "      <td>27707</td>\n",
              "      <td>188 10 0A 107.00</td>\n",
              "      <td>SINGLE FAMILY</td>\n",
              "      <td>1423  WINDING CREEK DR, NOLENSVILLE</td>\n",
              "      <td>2015-03-02 00:00:00</td>\n",
              "      <td>145000</td>\n",
              "      <td>20150304-0019013</td>\n",
              "      <td>No</td>\n",
              "      <td>NaN</td>\n",
              "      <td>NaN</td>\n",
              "      <td>NaN</td>\n",
              "      <td>NaN</td>\n",
              "      <td>NaN</td>\n",
              "      <td>NaN</td>\n",
              "      <td>NaN</td>\n",
              "      <td>NaN</td>\n",
              "      <td>NaN</td>\n",
              "      <td>NaN</td>\n",
              "      <td>NaN</td>\n",
              "    </tr>\n",
              "    <tr>\n",
              "      <th>56474</th>\n",
              "      <td>52709</td>\n",
              "      <td>188 10 0A 118.00</td>\n",
              "      <td>VACANT RESIDENTIAL LAND</td>\n",
              "      <td>1804 GRACE POINT  LN, NOLENSVILLE</td>\n",
              "      <td>2016-08-16 00:00:00</td>\n",
              "      <td>234611</td>\n",
              "      <td>20160819-0087214</td>\n",
              "      <td>Yes</td>\n",
              "      <td>NaN</td>\n",
              "      <td>NaN</td>\n",
              "      <td>NaN</td>\n",
              "      <td>NaN</td>\n",
              "      <td>NaN</td>\n",
              "      <td>NaN</td>\n",
              "      <td>NaN</td>\n",
              "      <td>NaN</td>\n",
              "      <td>NaN</td>\n",
              "      <td>NaN</td>\n",
              "      <td>NaN</td>\n",
              "    </tr>\n",
              "    <tr>\n",
              "      <th>56475</th>\n",
              "      <td>54042</td>\n",
              "      <td>188 10 0A 121.00</td>\n",
              "      <td>VACANT RESIDENTIAL LAND</td>\n",
              "      <td>1709 PARK TERRACE  LN, NOLENSVILLE</td>\n",
              "      <td>2016-09-07 00:00:00</td>\n",
              "      <td>93844</td>\n",
              "      <td>20160919-0098411</td>\n",
              "      <td>Yes</td>\n",
              "      <td>NaN</td>\n",
              "      <td>NaN</td>\n",
              "      <td>NaN</td>\n",
              "      <td>NaN</td>\n",
              "      <td>NaN</td>\n",
              "      <td>NaN</td>\n",
              "      <td>NaN</td>\n",
              "      <td>NaN</td>\n",
              "      <td>NaN</td>\n",
              "      <td>NaN</td>\n",
              "      <td>NaN</td>\n",
              "    </tr>\n",
              "    <tr>\n",
              "      <th>56476</th>\n",
              "      <td>54043</td>\n",
              "      <td>188 10 0A 122.00</td>\n",
              "      <td>VACANT RESIDENTIAL LAND</td>\n",
              "      <td>1713 PARK TERRACE  LN, NOLENSVILLE</td>\n",
              "      <td>2016-09-07 00:00:00</td>\n",
              "      <td>93844</td>\n",
              "      <td>20160919-0098411</td>\n",
              "      <td>Yes</td>\n",
              "      <td>NaN</td>\n",
              "      <td>NaN</td>\n",
              "      <td>NaN</td>\n",
              "      <td>NaN</td>\n",
              "      <td>NaN</td>\n",
              "      <td>NaN</td>\n",
              "      <td>NaN</td>\n",
              "      <td>NaN</td>\n",
              "      <td>NaN</td>\n",
              "      <td>NaN</td>\n",
              "      <td>NaN</td>\n",
              "    </tr>\n",
              "  </tbody>\n",
              "</table>\n",
              "<p>56477 rows × 19 columns</p>\n",
              "</div>\n",
              "    <div class=\"colab-df-buttons\">\n",
              "\n",
              "  <div class=\"colab-df-container\">\n",
              "    <button class=\"colab-df-convert\" onclick=\"convertToInteractive('df-feb63c14-6db6-480e-943d-9d7468e1a67b')\"\n",
              "            title=\"Convert this dataframe to an interactive table.\"\n",
              "            style=\"display:none;\">\n",
              "\n",
              "  <svg xmlns=\"http://www.w3.org/2000/svg\" height=\"24px\" viewBox=\"0 -960 960 960\">\n",
              "    <path d=\"M120-120v-720h720v720H120Zm60-500h600v-160H180v160Zm220 220h160v-160H400v160Zm0 220h160v-160H400v160ZM180-400h160v-160H180v160Zm440 0h160v-160H620v160ZM180-180h160v-160H180v160Zm440 0h160v-160H620v160Z\"/>\n",
              "  </svg>\n",
              "    </button>\n",
              "\n",
              "  <style>\n",
              "    .colab-df-container {\n",
              "      display:flex;\n",
              "      gap: 12px;\n",
              "    }\n",
              "\n",
              "    .colab-df-convert {\n",
              "      background-color: #E8F0FE;\n",
              "      border: none;\n",
              "      border-radius: 50%;\n",
              "      cursor: pointer;\n",
              "      display: none;\n",
              "      fill: #1967D2;\n",
              "      height: 32px;\n",
              "      padding: 0 0 0 0;\n",
              "      width: 32px;\n",
              "    }\n",
              "\n",
              "    .colab-df-convert:hover {\n",
              "      background-color: #E2EBFA;\n",
              "      box-shadow: 0px 1px 2px rgba(60, 64, 67, 0.3), 0px 1px 3px 1px rgba(60, 64, 67, 0.15);\n",
              "      fill: #174EA6;\n",
              "    }\n",
              "\n",
              "    .colab-df-buttons div {\n",
              "      margin-bottom: 4px;\n",
              "    }\n",
              "\n",
              "    [theme=dark] .colab-df-convert {\n",
              "      background-color: #3B4455;\n",
              "      fill: #D2E3FC;\n",
              "    }\n",
              "\n",
              "    [theme=dark] .colab-df-convert:hover {\n",
              "      background-color: #434B5C;\n",
              "      box-shadow: 0px 1px 3px 1px rgba(0, 0, 0, 0.15);\n",
              "      filter: drop-shadow(0px 1px 2px rgba(0, 0, 0, 0.3));\n",
              "      fill: #FFFFFF;\n",
              "    }\n",
              "  </style>\n",
              "\n",
              "    <script>\n",
              "      const buttonEl =\n",
              "        document.querySelector('#df-feb63c14-6db6-480e-943d-9d7468e1a67b button.colab-df-convert');\n",
              "      buttonEl.style.display =\n",
              "        google.colab.kernel.accessAllowed ? 'block' : 'none';\n",
              "\n",
              "      async function convertToInteractive(key) {\n",
              "        const element = document.querySelector('#df-feb63c14-6db6-480e-943d-9d7468e1a67b');\n",
              "        const dataTable =\n",
              "          await google.colab.kernel.invokeFunction('convertToInteractive',\n",
              "                                                    [key], {});\n",
              "        if (!dataTable) return;\n",
              "\n",
              "        const docLinkHtml = 'Like what you see? Visit the ' +\n",
              "          '<a target=\"_blank\" href=https://colab.research.google.com/notebooks/data_table.ipynb>data table notebook</a>'\n",
              "          + ' to learn more about interactive tables.';\n",
              "        element.innerHTML = '';\n",
              "        dataTable['output_type'] = 'display_data';\n",
              "        await google.colab.output.renderOutput(dataTable, element);\n",
              "        const docLink = document.createElement('div');\n",
              "        docLink.innerHTML = docLinkHtml;\n",
              "        element.appendChild(docLink);\n",
              "      }\n",
              "    </script>\n",
              "  </div>\n",
              "\n",
              "\n",
              "<div id=\"df-316419f4-9d2c-422e-8d79-8e3ddda8c282\">\n",
              "  <button class=\"colab-df-quickchart\" onclick=\"quickchart('df-316419f4-9d2c-422e-8d79-8e3ddda8c282')\"\n",
              "            title=\"Suggest charts.\"\n",
              "            style=\"display:none;\">\n",
              "\n",
              "<svg xmlns=\"http://www.w3.org/2000/svg\" height=\"24px\"viewBox=\"0 0 24 24\"\n",
              "     width=\"24px\">\n",
              "    <g>\n",
              "        <path d=\"M19 3H5c-1.1 0-2 .9-2 2v14c0 1.1.9 2 2 2h14c1.1 0 2-.9 2-2V5c0-1.1-.9-2-2-2zM9 17H7v-7h2v7zm4 0h-2V7h2v10zm4 0h-2v-4h2v4z\"/>\n",
              "    </g>\n",
              "</svg>\n",
              "  </button>\n",
              "\n",
              "<style>\n",
              "  .colab-df-quickchart {\n",
              "      --bg-color: #E8F0FE;\n",
              "      --fill-color: #1967D2;\n",
              "      --hover-bg-color: #E2EBFA;\n",
              "      --hover-fill-color: #174EA6;\n",
              "      --disabled-fill-color: #AAA;\n",
              "      --disabled-bg-color: #DDD;\n",
              "  }\n",
              "\n",
              "  [theme=dark] .colab-df-quickchart {\n",
              "      --bg-color: #3B4455;\n",
              "      --fill-color: #D2E3FC;\n",
              "      --hover-bg-color: #434B5C;\n",
              "      --hover-fill-color: #FFFFFF;\n",
              "      --disabled-bg-color: #3B4455;\n",
              "      --disabled-fill-color: #666;\n",
              "  }\n",
              "\n",
              "  .colab-df-quickchart {\n",
              "    background-color: var(--bg-color);\n",
              "    border: none;\n",
              "    border-radius: 50%;\n",
              "    cursor: pointer;\n",
              "    display: none;\n",
              "    fill: var(--fill-color);\n",
              "    height: 32px;\n",
              "    padding: 0;\n",
              "    width: 32px;\n",
              "  }\n",
              "\n",
              "  .colab-df-quickchart:hover {\n",
              "    background-color: var(--hover-bg-color);\n",
              "    box-shadow: 0 1px 2px rgba(60, 64, 67, 0.3), 0 1px 3px 1px rgba(60, 64, 67, 0.15);\n",
              "    fill: var(--button-hover-fill-color);\n",
              "  }\n",
              "\n",
              "  .colab-df-quickchart-complete:disabled,\n",
              "  .colab-df-quickchart-complete:disabled:hover {\n",
              "    background-color: var(--disabled-bg-color);\n",
              "    fill: var(--disabled-fill-color);\n",
              "    box-shadow: none;\n",
              "  }\n",
              "\n",
              "  .colab-df-spinner {\n",
              "    border: 2px solid var(--fill-color);\n",
              "    border-color: transparent;\n",
              "    border-bottom-color: var(--fill-color);\n",
              "    animation:\n",
              "      spin 1s steps(1) infinite;\n",
              "  }\n",
              "\n",
              "  @keyframes spin {\n",
              "    0% {\n",
              "      border-color: transparent;\n",
              "      border-bottom-color: var(--fill-color);\n",
              "      border-left-color: var(--fill-color);\n",
              "    }\n",
              "    20% {\n",
              "      border-color: transparent;\n",
              "      border-left-color: var(--fill-color);\n",
              "      border-top-color: var(--fill-color);\n",
              "    }\n",
              "    30% {\n",
              "      border-color: transparent;\n",
              "      border-left-color: var(--fill-color);\n",
              "      border-top-color: var(--fill-color);\n",
              "      border-right-color: var(--fill-color);\n",
              "    }\n",
              "    40% {\n",
              "      border-color: transparent;\n",
              "      border-right-color: var(--fill-color);\n",
              "      border-top-color: var(--fill-color);\n",
              "    }\n",
              "    60% {\n",
              "      border-color: transparent;\n",
              "      border-right-color: var(--fill-color);\n",
              "    }\n",
              "    80% {\n",
              "      border-color: transparent;\n",
              "      border-right-color: var(--fill-color);\n",
              "      border-bottom-color: var(--fill-color);\n",
              "    }\n",
              "    90% {\n",
              "      border-color: transparent;\n",
              "      border-bottom-color: var(--fill-color);\n",
              "    }\n",
              "  }\n",
              "</style>\n",
              "\n",
              "  <script>\n",
              "    async function quickchart(key) {\n",
              "      const quickchartButtonEl =\n",
              "        document.querySelector('#' + key + ' button');\n",
              "      quickchartButtonEl.disabled = true;  // To prevent multiple clicks.\n",
              "      quickchartButtonEl.classList.add('colab-df-spinner');\n",
              "      try {\n",
              "        const charts = await google.colab.kernel.invokeFunction(\n",
              "            'suggestCharts', [key], {});\n",
              "      } catch (error) {\n",
              "        console.error('Error during call to suggestCharts:', error);\n",
              "      }\n",
              "      quickchartButtonEl.classList.remove('colab-df-spinner');\n",
              "      quickchartButtonEl.classList.add('colab-df-quickchart-complete');\n",
              "    }\n",
              "    (() => {\n",
              "      let quickchartButtonEl =\n",
              "        document.querySelector('#df-316419f4-9d2c-422e-8d79-8e3ddda8c282 button');\n",
              "      quickchartButtonEl.style.display =\n",
              "        google.colab.kernel.accessAllowed ? 'block' : 'none';\n",
              "    })();\n",
              "  </script>\n",
              "</div>\n",
              "    </div>\n",
              "  </div>\n"
            ]
          },
          "metadata": {},
          "execution_count": 37
        }
      ]
    },
    {
      "cell_type": "code",
      "source": [
        "#Creating database to allow for csv data to be connected and queried using SQLite\n",
        "cnn = sqlite3.connect('simone_database.db')"
      ],
      "metadata": {
        "id": "vxC1FLDji-7B"
      },
      "execution_count": 38,
      "outputs": []
    },
    {
      "cell_type": "code",
      "source": [
        "cleanframe.to_sql('Nashvillehousing',cnn,if_exists= 'replace')"
      ],
      "metadata": {
        "colab": {
          "base_uri": "https://localhost:8080/"
        },
        "id": "sNGivMuWki3E",
        "outputId": "eb976f79-d34d-4012-a229-5633f8d493fb"
      },
      "execution_count": 39,
      "outputs": [
        {
          "output_type": "execute_result",
          "data": {
            "text/plain": [
              "56477"
            ]
          },
          "metadata": {},
          "execution_count": 39
        }
      ]
    },
    {
      "cell_type": "code",
      "source": [
        "%load_ext sql"
      ],
      "metadata": {
        "colab": {
          "base_uri": "https://localhost:8080/"
        },
        "id": "YSw3x6Gikl5a",
        "outputId": "0fdfa7bd-6d53-4bf5-8d33-798becfa5d78"
      },
      "execution_count": 40,
      "outputs": [
        {
          "output_type": "stream",
          "name": "stdout",
          "text": [
            "The sql extension is already loaded. To reload it, use:\n",
            "  %reload_ext sql\n"
          ]
        }
      ]
    },
    {
      "cell_type": "code",
      "source": [
        "%sql sqlite:///simone_database.db"
      ],
      "metadata": {
        "id": "bWUa2K4GkpdU"
      },
      "execution_count": 41,
      "outputs": []
    },
    {
      "cell_type": "code",
      "source": [
        "#Standardizing of SaleDate - removing the empty hh:mm:ss in SaleDate Column\n",
        "%%sql\n",
        "SELECT SaleDate, (strftime('%Y-%m-%d', SaleDate))\n",
        "FROM Nashvillehousing\n",
        "LIMIT 2"
      ],
      "metadata": {
        "colab": {
          "base_uri": "https://localhost:8080/",
          "height": 120
        },
        "id": "-d5QCwSckuDA",
        "outputId": "123541b7-4f7b-4c9b-9271-c3df9ed4a36c"
      },
      "execution_count": 42,
      "outputs": [
        {
          "output_type": "stream",
          "name": "stdout",
          "text": [
            " * sqlite:///simone_database.db\n",
            "Done.\n"
          ]
        },
        {
          "output_type": "execute_result",
          "data": {
            "text/plain": [
              "[('2013-04-09 00:00:00', '2013-04-09'), ('2014-06-10 00:00:00', '2014-06-10')]"
            ],
            "text/html": [
              "<table>\n",
              "    <thead>\n",
              "        <tr>\n",
              "            <th>SaleDate</th>\n",
              "            <th>(strftime(&#x27;%Y-%m-%d&#x27;, SaleDate))</th>\n",
              "        </tr>\n",
              "    </thead>\n",
              "    <tbody>\n",
              "        <tr>\n",
              "            <td>2013-04-09 00:00:00</td>\n",
              "            <td>2013-04-09</td>\n",
              "        </tr>\n",
              "        <tr>\n",
              "            <td>2014-06-10 00:00:00</td>\n",
              "            <td>2014-06-10</td>\n",
              "        </tr>\n",
              "    </tbody>\n",
              "</table>"
            ]
          },
          "metadata": {},
          "execution_count": 42
        }
      ]
    },
    {
      "cell_type": "code",
      "source": [
        "#Standardizing of SaleDate - removing the empty hh:mm:ss in SaleDate Column\n",
        "%%sql\n",
        "SELECT SaleDate, (strftime('%Y-%m-%d', SaleDate)) AS NewSaleDate\n",
        "FROM Nashvillehousing\n",
        "LIMIT 2"
      ],
      "metadata": {
        "colab": {
          "base_uri": "https://localhost:8080/",
          "height": 120
        },
        "id": "tn-mmen6kvsb",
        "outputId": "58d17087-e7ab-451e-e87b-9ecb6fbbdf32"
      },
      "execution_count": 43,
      "outputs": [
        {
          "output_type": "stream",
          "name": "stdout",
          "text": [
            " * sqlite:///simone_database.db\n",
            "Done.\n"
          ]
        },
        {
          "output_type": "execute_result",
          "data": {
            "text/plain": [
              "[('2013-04-09 00:00:00', '2013-04-09'), ('2014-06-10 00:00:00', '2014-06-10')]"
            ],
            "text/html": [
              "<table>\n",
              "    <thead>\n",
              "        <tr>\n",
              "            <th>SaleDate</th>\n",
              "            <th>NewSaleDate</th>\n",
              "        </tr>\n",
              "    </thead>\n",
              "    <tbody>\n",
              "        <tr>\n",
              "            <td>2013-04-09 00:00:00</td>\n",
              "            <td>2013-04-09</td>\n",
              "        </tr>\n",
              "        <tr>\n",
              "            <td>2014-06-10 00:00:00</td>\n",
              "            <td>2014-06-10</td>\n",
              "        </tr>\n",
              "    </tbody>\n",
              "</table>"
            ]
          },
          "metadata": {},
          "execution_count": 43
        }
      ]
    },
    {
      "cell_type": "code",
      "source": [
        "%%sql\n",
        "UPDATE Nashvillehousing\n",
        "SET SaleDate = (strftime('%Y-%m-%d', SaleDate))"
      ],
      "metadata": {
        "colab": {
          "base_uri": "https://localhost:8080/"
        },
        "id": "JBhD4K0wkyjk",
        "outputId": "5204c75f-5f59-4760-cfa1-d753e74528ef"
      },
      "execution_count": 44,
      "outputs": [
        {
          "output_type": "stream",
          "name": "stdout",
          "text": [
            " * sqlite:///simone_database.db\n",
            "56477 rows affected.\n"
          ]
        },
        {
          "output_type": "execute_result",
          "data": {
            "text/plain": [
              "[]"
            ]
          },
          "metadata": {},
          "execution_count": 44
        }
      ]
    },
    {
      "cell_type": "code",
      "source": [
        "#Populate property Address Data\n",
        "%%sql\n",
        "SELECT *\n",
        "FROM Nashvillehousing\n",
        "--Where PropertyAddress IS NULL\n",
        "ORDER BY ParcelID"
      ],
      "metadata": {
        "colab": {
          "base_uri": "https://localhost:8080/"
        },
        "id": "neniGxmck2I_",
        "outputId": "45de969b-5769-4406-d8c6-a5b8756847fe"
      },
      "execution_count": 45,
      "outputs": [
        {
          "output_type": "stream",
          "name": "stdout",
          "text": [
            " * sqlite:///simone_database.db\n",
            "Done.\n"
          ]
        }
      ]
    },
    {
      "cell_type": "code",
      "source": [
        "#Self join to determinate duplicate Property addresses with etc.\n",
        "%%sql\n",
        "SELECT A1.PropertyAddress, A1.ParcelID, B2.PropertyAddress, B2.ParcelID\n",
        "FROM Nashvillehousing A1\n",
        "JOIN Nashvillehousing B2\n",
        "WHERE A1.PropertyAddress IS NULL\n",
        "limit 100"
      ],
      "metadata": {
        "id": "pPEPKY4PsHUg"
      },
      "execution_count": 46,
      "outputs": []
    },
    {
      "cell_type": "code",
      "source": [
        "%%sql\n",
        "SELECT A1.PropertyAddress, A1.ParcelID, B2.PropertyAddress, B2.ParcelID\n",
        "FROM Nashvillehousing as A1\n",
        "JOIN Nashvillehousing as B2\n",
        "ON A1.ParcelID = B2.ParcelID\n",
        "AND A1.UniqueID <> B2.UniqueID\n",
        "WHERE A1.PropertyAddress IS NULL"
      ],
      "metadata": {
        "id": "-0ngopiYsNWa"
      },
      "execution_count": null,
      "outputs": []
    },
    {
      "cell_type": "code",
      "source": [
        "%%sql\n",
        "UPDATE Nashvillehousing AS A1\n",
        "SET PropertyAddress = B2.PropertyAddress\n",
        "FROM Nashvillehousing AS B2\n",
        "WHERE A1.ParcelID = B2.ParcelID AND A1.UniqueID <> B2.UniqueID\n",
        "  AND A1.PropertyAddress IS NULL AND B2.PropertyAddress IS NOT NULL;"
      ],
      "metadata": {
        "id": "aMaA014jsUra"
      },
      "execution_count": null,
      "outputs": []
    },
    {
      "cell_type": "code",
      "source": [
        "%%sql\n",
        "SELECT PropertyAddress\n",
        "FROM Nashvillehousing\n",
        "WHERE PropertyAddress IS NULL"
      ],
      "metadata": {
        "id": "aWbKp5N7szqf"
      },
      "execution_count": null,
      "outputs": []
    },
    {
      "cell_type": "code",
      "source": [
        "#Addresses separated into individual columns by address, city, state\n",
        "%%sql\n",
        "SELECT SUBSTR(PropertyAddress, 1, INSTR(PropertyAddress, ',')-1) AS Address,\n",
        "SUBSTR(PropertyAddress, INSTR(PropertyAddress, ',')+1, LENGTH(PropertyAddress)) AS Address\n",
        "FROM Nashvillehousing;"
      ],
      "metadata": {
        "id": "kAIYMUdXtbKN"
      },
      "execution_count": null,
      "outputs": []
    },
    {
      "cell_type": "code",
      "source": [
        "#Creating columns for newly separated address fields.\n",
        "%%sql\n",
        "ALTER TABLE Nashvillehousing\n",
        "ADD PropertySplitAddress"
      ],
      "metadata": {
        "id": "k4SZN_OYnEqU"
      },
      "execution_count": null,
      "outputs": []
    },
    {
      "cell_type": "code",
      "source": [
        "%%sql\n",
        "UPDATE Nashvillehousing\n",
        "SET PropertySplitAddress = SUBSTR(PropertyAddress, 1, INSTR(PropertyAddress, ',')-1)"
      ],
      "metadata": {
        "id": "N90LC1XHIAaU"
      },
      "execution_count": null,
      "outputs": []
    },
    {
      "cell_type": "code",
      "source": [
        "%%sql\n",
        "ALTER TABLE Nashvillehousing\n",
        "ADD PropertySplitCity\n",
        "TYPE TEXT;"
      ],
      "metadata": {
        "id": "Miz6l36jH3Q4"
      },
      "execution_count": null,
      "outputs": []
    },
    {
      "cell_type": "code",
      "source": [
        "%%sql\n",
        "UPDATE Nashvillehousing\n",
        "SET PropertySplitCity = SUBSTR(PropertyAddress, INSTR(PropertyAddress, ',')+1, LENGTH(PropertyAddress));"
      ],
      "metadata": {
        "id": "sbhavB3FH4Xj"
      },
      "execution_count": null,
      "outputs": []
    },
    {
      "cell_type": "code",
      "source": [
        "%%sql\n",
        "SELECT *\n",
        "FROM Nashvillehousing\n",
        "limit 5"
      ],
      "metadata": {
        "id": "0sAv31gwIxgW"
      },
      "execution_count": null,
      "outputs": []
    },
    {
      "cell_type": "code",
      "source": [
        "#Creating columns for Owner Address - alternative query\n",
        "%%sql\n",
        "SELECT SUBSTR(OwnerAddress, 1, INSTR(OwnerAddress, ',') -1) AS HouseAddress,\n",
        "SUBSTR(OwnerAddress, INSTR(OwnerAddress, ',')+1, INSTR(SUBSTR(OwnerAddress, INSTR(OwnerAddress, ',')+1), ',')-1) AS StreetName,\n",
        "SUBSTR(OwnerAddress, INSTR(SUBSTR(OwnerAddress, INSTR(OwnerAddress,',') +1),',')+ INSTR(OwnerAddress, ',')+1) AS Zipcode\n",
        "FROM NashvilleHousing;"
      ],
      "metadata": {
        "id": "76DPm0NhJRw-"
      },
      "execution_count": null,
      "outputs": []
    },
    {
      "cell_type": "code",
      "source": [
        "%%sql\n",
        "ALTER TABLE Nashvillehousing\n",
        "ADD OwnerSplitAddress\n",
        "TYPE TEXT;"
      ],
      "metadata": {
        "id": "WnM2a5O3fhME"
      },
      "execution_count": null,
      "outputs": []
    },
    {
      "cell_type": "code",
      "source": [
        "%%sql\n",
        "UPDATE Nashvillehousing\n",
        "SET OwnerSplitAddress= SUBSTR(OwnerAddress, 1, INSTR(OwnerAddress, ',') -1);"
      ],
      "metadata": {
        "id": "G8Qu4aUuPZOv"
      },
      "execution_count": null,
      "outputs": []
    },
    {
      "cell_type": "code",
      "source": [
        "%%sql\n",
        "ALTER TABLE Nashvillehousing\n",
        "ADD OwnerSplitCity\n",
        "TYPE TEXT;"
      ],
      "metadata": {
        "id": "KPuH_3ZPPZnA"
      },
      "execution_count": null,
      "outputs": []
    },
    {
      "cell_type": "code",
      "source": [
        "%%sql\n",
        "UPDATE Nashvillehousing\n",
        "SET OwnerSplitCity  = SUBSTR(OwnerAddress, INSTR(OwnerAddress, ',')+1, INSTR(SUBSTR(OwnerAddress, INSTR(OwnerAddress, ',')+1), ',')-1);"
      ],
      "metadata": {
        "id": "LNU1gyCNPabo"
      },
      "execution_count": null,
      "outputs": []
    },
    {
      "cell_type": "code",
      "source": [
        "%%sql\n",
        "ALTER TABLE Nashvillehousing\n",
        "ADD OwnerSplitZipCode\n",
        "TYPE TEXT;"
      ],
      "metadata": {
        "id": "lRRzVksCPap9"
      },
      "execution_count": null,
      "outputs": []
    },
    {
      "cell_type": "code",
      "source": [
        "%%sql\n",
        "SELECT *\n",
        "FROM Nashvillehousing\n",
        "LIMIT 5;"
      ],
      "metadata": {
        "id": "fmIRGP2qQ2Tl"
      },
      "execution_count": null,
      "outputs": []
    },
    {
      "cell_type": "code",
      "source": [
        "#Changing  Y and No to 'Yes' and 'No' in 'Sold as Vacant' field.- Distinct count.\n",
        "%%sql\n",
        "SELECT DISTINCT(SoldAsVacant), COUNT(SoldAsVacant)\n",
        "FROM Nashvillehousing\n",
        "GROUP BY SoldAsVacant\n",
        "ORDER BY 1;"
      ],
      "metadata": {
        "id": "uMBco-PcRCuJ"
      },
      "execution_count": null,
      "outputs": []
    },
    {
      "cell_type": "code",
      "source": [
        "%%sql\n",
        "SELECT SoldAsVacant,\n",
        "CASE WHEN SoldAsVacant = 'Y' THEN 'Yes'\n",
        "  WHEN SoldAsVacant = 'N' THEN 'No'\n",
        "  ELSE SoldAsVacant\n",
        "  END\n",
        "FROM Nashvillehousing;\n"
      ],
      "metadata": {
        "id": "GsnQOT7lh4kL"
      },
      "execution_count": null,
      "outputs": []
    },
    {
      "cell_type": "code",
      "source": [
        "%%sql\n",
        "UPDATE Nashvillehousing\n",
        "SET SoldAsVacant =\n",
        "CASE WHEN SoldAsVacant = 'Y' THEN 'Yes'\n",
        "  WHEN SoldAsVacant = 'N' THEN 'No'\n",
        "  ELSE SoldAsVacant\n",
        "  END;"
      ],
      "metadata": {
        "id": "Q136rjrAojHr"
      },
      "execution_count": null,
      "outputs": []
    },
    {
      "cell_type": "code",
      "source": [
        "#Remove your duplicates- Not standard practice to delete data, (Standard practice - create temp table).\n",
        "%%sql\n",
        "WITH RowNumCTE AS(\n",
        "SELECT *,\n",
        "ROW_NUMBER() OVER(\n",
        "  PARTITION BY ParcelID,\n",
        "               PropertyAddress,\n",
        "               SalePrice,\n",
        "               SaleDate,\n",
        "               LegalReference\n",
        "               ORDER BY\n",
        "               UniqueID\n",
        ") AS RowNu\n",
        "FROM Nashvillehousing\n",
        "--ORDER BY ParcelID\n",
        ")\n",
        "\n",
        "SELECT count(*)\n",
        "FROM RowNumCTE\n",
        "WHERE RowNu > 1\n",
        "--ORDER BY PropertyAddress;"
      ],
      "metadata": {
        "colab": {
          "base_uri": "https://localhost:8080/",
          "height": 98
        },
        "id": "u0HTaNURqxXN",
        "outputId": "e93655a0-802d-43d8-d0d9-93ec57739b00"
      },
      "execution_count": 107,
      "outputs": [
        {
          "output_type": "stream",
          "name": "stdout",
          "text": [
            " * sqlite:///simone_database.db\n",
            "Done.\n"
          ]
        },
        {
          "output_type": "execute_result",
          "data": {
            "text/plain": [
              "[(0,)]"
            ],
            "text/html": [
              "<table>\n",
              "    <thead>\n",
              "        <tr>\n",
              "            <th>count(*)</th>\n",
              "        </tr>\n",
              "    </thead>\n",
              "    <tbody>\n",
              "        <tr>\n",
              "            <td>0</td>\n",
              "        </tr>\n",
              "    </tbody>\n",
              "</table>"
            ]
          },
          "metadata": {},
          "execution_count": 107
        }
      ]
    },
    {
      "cell_type": "code",
      "source": [
        "#Remove your duplicates- Not standard practice to delete data, (Standard practice - create temp table).\n",
        "%%sql\n",
        "DELETE FROM NashvilleHousing\n",
        "WHERE UniqueID IN (\n",
        "  SELECT UniqueID\n",
        "  FROM (\n",
        "    SELECT *,\n",
        "      ROW_NUMBER() OVER (\n",
        "        PARTITION BY ParcelID,\n",
        "          PropertyAddress,\n",
        "          SalePrice,\n",
        "          SaleDate,\n",
        "          LegalReference\n",
        "        ORDER BY\n",
        "          UniqueID\n",
        "      ) AS RowNum\n",
        "    FROM NashvilleHousing\n",
        "    -- ORDER BY ParcelID\n",
        "  ) AS RowNumCTE\n",
        "  WHERE RowNum > 1\n",
        ");\n"
      ],
      "metadata": {
        "colab": {
          "base_uri": "https://localhost:8080/"
        },
        "id": "9qrdlPSthpyf",
        "outputId": "5b27138b-ebf8-4e23-8567-c74c8092e440"
      },
      "execution_count": 110,
      "outputs": [
        {
          "output_type": "stream",
          "name": "stdout",
          "text": [
            " * sqlite:///simone_database.db\n",
            "0 rows affected.\n"
          ]
        },
        {
          "output_type": "execute_result",
          "data": {
            "text/plain": [
              "[]"
            ]
          },
          "metadata": {},
          "execution_count": 110
        }
      ]
    },
    {
      "cell_type": "code",
      "source": [
        "#Delete unecessary columns, only for practice (Standard Practice - deletion from views, not Raw Data set).\n",
        "%%sql\n",
        "\n",
        "ALTER TABLE NashvilleHousing\n",
        "DROP COLUMN OwnerAddress;\n",
        "\n",
        "ALTER TABLE NashvilleHousing\n",
        "DROP COLUMN TaxDistrict;\n",
        "\n",
        "ALTER TABLE NashvilleHousing\n",
        "DROP COLUMN PropertyAddress;"
      ],
      "metadata": {
        "colab": {
          "base_uri": "https://localhost:8080/"
        },
        "id": "s-JnHh5LdT8b",
        "outputId": "e7c40234-097d-4853-cf57-50e9321134f6"
      },
      "execution_count": 116,
      "outputs": [
        {
          "output_type": "stream",
          "name": "stdout",
          "text": [
            " * sqlite:///simone_database.db\n",
            "Done.\n",
            "Done.\n",
            "Done.\n"
          ]
        },
        {
          "output_type": "execute_result",
          "data": {
            "text/plain": [
              "[]"
            ]
          },
          "metadata": {},
          "execution_count": 116
        }
      ]
    },
    {
      "cell_type": "code",
      "source": [
        "#Check to ensure selected rows have been deleted.\n",
        "%%sql\n",
        "SELECT *\n",
        "FROM NashvilleHousing\n",
        "limit 5"
      ],
      "metadata": {
        "colab": {
          "base_uri": "https://localhost:8080/",
          "height": 394
        },
        "id": "Iv5TnqNvslkA",
        "outputId": "b246171b-aa5f-44b8-8929-2daebbae22c1"
      },
      "execution_count": 119,
      "outputs": [
        {
          "output_type": "stream",
          "name": "stdout",
          "text": [
            " * sqlite:///simone_database.db\n",
            "Done.\n"
          ]
        },
        {
          "output_type": "execute_result",
          "data": {
            "text/plain": [
              "[(0, 2045, '007 00 0 125.00', 'SINGLE FAMILY', '2013-04-09', '240000', '20130412-0036474', 'No', 'FRAZIER, CYRENTHA LYNETTE', 2.3, 50000.0, 168200.0, 235700.0, 1986.0, 3.0, 3.0, 0.0, '1808  FOX CHASE DR', ' GOODLETTSVILLE', '1808  FOX CHASE DR', ' GOODLETTSVILLE', None),\n",
              " (1, 16918, '007 00 0 130.00', 'SINGLE FAMILY', '2014-06-10', '366000', '20140619-0053768', 'No', 'BONER, CHARLES & LESLIE', 3.5, 50000.0, 264100.0, 319000.0, 1998.0, 3.0, 3.0, 2.0, '1832  FOX CHASE DR', ' GOODLETTSVILLE', '1832  FOX CHASE DR', ' GOODLETTSVILLE', None),\n",
              " (2, 54582, '007 00 0 138.00', 'SINGLE FAMILY', '2016-09-26', '435000', '20160927-0101718', 'No', 'WILSON, JAMES E. & JOANNE', 2.9, 50000.0, 216200.0, 298000.0, 1987.0, 4.0, 3.0, 0.0, '1864 FOX CHASE  DR', ' GOODLETTSVILLE', '1864  FOX CHASE DR', ' GOODLETTSVILLE', None),\n",
              " (3, 43070, '007 00 0 143.00', 'SINGLE FAMILY', '2016-01-29', '255000', '20160129-0008913', 'No', 'BAKER, JAY K. & SUSAN E.', 2.6, 50000.0, 147300.0, 197300.0, 1985.0, 3.0, 3.0, 0.0, '1853  FOX CHASE DR', ' GOODLETTSVILLE', '1853  FOX CHASE DR', ' GOODLETTSVILLE', None),\n",
              " (4, 22714, '007 00 0 149.00', 'SINGLE FAMILY', '2014-10-10', '278000', '20141015-0095255', 'No', 'POST, CHRISTOPHER M. & SAMANTHA C.', 2.0, 50000.0, 152300.0, 202300.0, 1984.0, 4.0, 3.0, 0.0, '1829  FOX CHASE DR', ' GOODLETTSVILLE', '1829  FOX CHASE DR', ' GOODLETTSVILLE', None)]"
            ],
            "text/html": [
              "<table>\n",
              "    <thead>\n",
              "        <tr>\n",
              "            <th>index</th>\n",
              "            <th>UniqueID</th>\n",
              "            <th>ParcelID</th>\n",
              "            <th>LandUse</th>\n",
              "            <th>SaleDate</th>\n",
              "            <th>SalePrice</th>\n",
              "            <th>LegalReference</th>\n",
              "            <th>SoldAsVacant</th>\n",
              "            <th>OwnerName</th>\n",
              "            <th>Acreage</th>\n",
              "            <th>LandValue</th>\n",
              "            <th>BuildingValue</th>\n",
              "            <th>TotalValue</th>\n",
              "            <th>YearBuilt</th>\n",
              "            <th>Bedrooms</th>\n",
              "            <th>FullBath</th>\n",
              "            <th>HalfBath</th>\n",
              "            <th>PropertySplitAddress</th>\n",
              "            <th>PropertySplitCity</th>\n",
              "            <th>OwnerSplitAddress</th>\n",
              "            <th>OwnerSplitCity</th>\n",
              "            <th>OwnerSplitZipCode</th>\n",
              "        </tr>\n",
              "    </thead>\n",
              "    <tbody>\n",
              "        <tr>\n",
              "            <td>0</td>\n",
              "            <td>2045</td>\n",
              "            <td>007 00 0 125.00</td>\n",
              "            <td>SINGLE FAMILY</td>\n",
              "            <td>2013-04-09</td>\n",
              "            <td>240000</td>\n",
              "            <td>20130412-0036474</td>\n",
              "            <td>No</td>\n",
              "            <td>FRAZIER, CYRENTHA LYNETTE</td>\n",
              "            <td>2.3</td>\n",
              "            <td>50000.0</td>\n",
              "            <td>168200.0</td>\n",
              "            <td>235700.0</td>\n",
              "            <td>1986.0</td>\n",
              "            <td>3.0</td>\n",
              "            <td>3.0</td>\n",
              "            <td>0.0</td>\n",
              "            <td>1808  FOX CHASE DR</td>\n",
              "            <td> GOODLETTSVILLE</td>\n",
              "            <td>1808  FOX CHASE DR</td>\n",
              "            <td> GOODLETTSVILLE</td>\n",
              "            <td>None</td>\n",
              "        </tr>\n",
              "        <tr>\n",
              "            <td>1</td>\n",
              "            <td>16918</td>\n",
              "            <td>007 00 0 130.00</td>\n",
              "            <td>SINGLE FAMILY</td>\n",
              "            <td>2014-06-10</td>\n",
              "            <td>366000</td>\n",
              "            <td>20140619-0053768</td>\n",
              "            <td>No</td>\n",
              "            <td>BONER, CHARLES &amp; LESLIE</td>\n",
              "            <td>3.5</td>\n",
              "            <td>50000.0</td>\n",
              "            <td>264100.0</td>\n",
              "            <td>319000.0</td>\n",
              "            <td>1998.0</td>\n",
              "            <td>3.0</td>\n",
              "            <td>3.0</td>\n",
              "            <td>2.0</td>\n",
              "            <td>1832  FOX CHASE DR</td>\n",
              "            <td> GOODLETTSVILLE</td>\n",
              "            <td>1832  FOX CHASE DR</td>\n",
              "            <td> GOODLETTSVILLE</td>\n",
              "            <td>None</td>\n",
              "        </tr>\n",
              "        <tr>\n",
              "            <td>2</td>\n",
              "            <td>54582</td>\n",
              "            <td>007 00 0 138.00</td>\n",
              "            <td>SINGLE FAMILY</td>\n",
              "            <td>2016-09-26</td>\n",
              "            <td>435000</td>\n",
              "            <td>20160927-0101718</td>\n",
              "            <td>No</td>\n",
              "            <td>WILSON, JAMES E. &amp; JOANNE</td>\n",
              "            <td>2.9</td>\n",
              "            <td>50000.0</td>\n",
              "            <td>216200.0</td>\n",
              "            <td>298000.0</td>\n",
              "            <td>1987.0</td>\n",
              "            <td>4.0</td>\n",
              "            <td>3.0</td>\n",
              "            <td>0.0</td>\n",
              "            <td>1864 FOX CHASE  DR</td>\n",
              "            <td> GOODLETTSVILLE</td>\n",
              "            <td>1864  FOX CHASE DR</td>\n",
              "            <td> GOODLETTSVILLE</td>\n",
              "            <td>None</td>\n",
              "        </tr>\n",
              "        <tr>\n",
              "            <td>3</td>\n",
              "            <td>43070</td>\n",
              "            <td>007 00 0 143.00</td>\n",
              "            <td>SINGLE FAMILY</td>\n",
              "            <td>2016-01-29</td>\n",
              "            <td>255000</td>\n",
              "            <td>20160129-0008913</td>\n",
              "            <td>No</td>\n",
              "            <td>BAKER, JAY K. &amp; SUSAN E.</td>\n",
              "            <td>2.6</td>\n",
              "            <td>50000.0</td>\n",
              "            <td>147300.0</td>\n",
              "            <td>197300.0</td>\n",
              "            <td>1985.0</td>\n",
              "            <td>3.0</td>\n",
              "            <td>3.0</td>\n",
              "            <td>0.0</td>\n",
              "            <td>1853  FOX CHASE DR</td>\n",
              "            <td> GOODLETTSVILLE</td>\n",
              "            <td>1853  FOX CHASE DR</td>\n",
              "            <td> GOODLETTSVILLE</td>\n",
              "            <td>None</td>\n",
              "        </tr>\n",
              "        <tr>\n",
              "            <td>4</td>\n",
              "            <td>22714</td>\n",
              "            <td>007 00 0 149.00</td>\n",
              "            <td>SINGLE FAMILY</td>\n",
              "            <td>2014-10-10</td>\n",
              "            <td>278000</td>\n",
              "            <td>20141015-0095255</td>\n",
              "            <td>No</td>\n",
              "            <td>POST, CHRISTOPHER M. &amp; SAMANTHA C.</td>\n",
              "            <td>2.0</td>\n",
              "            <td>50000.0</td>\n",
              "            <td>152300.0</td>\n",
              "            <td>202300.0</td>\n",
              "            <td>1984.0</td>\n",
              "            <td>4.0</td>\n",
              "            <td>3.0</td>\n",
              "            <td>0.0</td>\n",
              "            <td>1829  FOX CHASE DR</td>\n",
              "            <td> GOODLETTSVILLE</td>\n",
              "            <td>1829  FOX CHASE DR</td>\n",
              "            <td> GOODLETTSVILLE</td>\n",
              "            <td>None</td>\n",
              "        </tr>\n",
              "    </tbody>\n",
              "</table>"
            ]
          },
          "metadata": {},
          "execution_count": 119
        }
      ]
    }
  ]
}